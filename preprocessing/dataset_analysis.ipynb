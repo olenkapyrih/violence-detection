{
 "cells": [
  {
   "cell_type": "code",
   "id": "initial_id",
   "metadata": {
    "collapsed": true
   },
   "source": [
    "import os\n",
    "import cv2\n",
    "from collections import defaultdict"
   ],
   "outputs": [],
   "execution_count": null
  },
  {
   "metadata": {},
   "cell_type": "code",
   "source": [
    "video_dir = folders = [\n",
    "    r\"C:\\Users\\Olenka\\Downloads\\1-1004\",\n",
    "    r\"C:\\Users\\Olenka\\Downloads\\1005-2004\",\n",
    "    r\"C:\\Users\\Olenka\\Downloads\\2005-2804\",\n",
    "    r\"C:\\Users\\Olenka\\Downloads\\2805-3319\",\n",
    "    r\"C:\\Users\\Olenka\\Downloads\\3320-3954\",\n",
    "]\n",
    "\n",
    "classes = [\"A\", \"B1\", \"B2\", \"B4\", \"B5\", \"B6\", \"G\"]"
   ],
   "id": "a2412f17963f0fff",
   "outputs": [],
   "execution_count": null
  },
  {
   "metadata": {},
   "cell_type": "code",
   "source": [
    "def extract_labels(file):\n",
    "    parts = file[:-4].split(\"label_\")\n",
    "    if len(parts) < 2:\n",
    "        return [0] * len(classes)\n",
    "    return [1 if cls in parts[1].split('-') else 0 for cls in classes]\n"
   ],
   "id": "fabc5124360e1bc9",
   "outputs": [],
   "execution_count": null
  },
  {
   "metadata": {},
   "cell_type": "code",
   "source": [
    "def get_video_duration_sec(video_path):\n",
    "    cap = cv2.VideoCapture(video_path)\n",
    "    if not cap.isOpened():\n",
    "        return 0\n",
    "    fps = cap.get(cv2.CAP_PROP_FPS)\n",
    "    frames = cap.get(cv2.CAP_PROP_FRAME_COUNT)\n",
    "    duration = frames / fps if fps > 0 else 0\n",
    "    cap.release()\n",
    "    return duration"
   ],
   "id": "9974f03bfbfe95df",
   "outputs": [],
   "execution_count": null
  },
  {
   "metadata": {},
   "cell_type": "code",
   "source": [
    "class_counts = defaultdict(int)\n",
    "\n",
    "for folder in video_dir:\n",
    "    for file in os.listdir(folder):\n",
    "        video_path = os.path.join(folder, file)\n",
    "        duration = get_video_duration_sec(video_path)\n",
    "        if duration <= 60:\n",
    "            labels = extract_labels(file)\n",
    "            if sum(labels) == 1:\n",
    "                for i, val in enumerate(labels):\n",
    "                    if val == 1:\n",
    "                        class_counts[classes[i]] += 1\n",
    "\n"
   ],
   "id": "1d80aa4f3f388cf1",
   "outputs": [],
   "execution_count": null
  },
  {
   "metadata": {},
   "cell_type": "code",
   "source": [
    "print(\"Кількість відео < 1 хв для кожного класу:\")\n",
    "for cls in classes:\n",
    "    print(f\"{cls}: {class_counts[cls]}\")"
   ],
   "id": "9d291a3689d91680",
   "outputs": [],
   "execution_count": null
  },
  {
   "metadata": {},
   "cell_type": "code",
   "source": [
    "import matplotlib.pyplot as plt\n",
    "\n",
    "labels = list(class_counts.keys())\n",
    "values = list(class_counts.values())\n",
    "\n",
    "plt.figure(figsize=(10, 6))\n",
    "\n",
    "bars = plt.bar(labels, values, color='skyblue', edgecolor='black', width=0.6)\n",
    "\n",
    "plt.title(\"Кількість відео < 1 хв для кожного класу\", fontsize=14)\n",
    "plt.xlabel(\"Клас\", fontsize=12)\n",
    "plt.ylabel(\"Кількість відео\", fontsize=12)\n",
    "plt.grid(axis='y', linestyle='-', alpha=0.6)\n",
    "\n",
    "plt.grid(axis='x', linestyle='-', alpha=0.6)\n",
    "plt.tight_layout()\n",
    "plt.show()\n"
   ],
   "id": "bceb24d4df0171ee",
   "outputs": [],
   "execution_count": null
  },
  {
   "metadata": {},
   "cell_type": "code",
   "source": [
    "class_counts_2 = defaultdict(int)\n",
    "\n",
    "for folder in video_dir:\n",
    "    for file in os.listdir(folder):\n",
    "        video_path = os.path.join(folder, file)\n",
    "        duration = get_video_duration_sec(video_path)\n",
    "        if 60 < duration <= 120:\n",
    "            labels = extract_labels(file)\n",
    "            if sum(labels) == 1:\n",
    "                for i, val in enumerate(labels):\n",
    "                    if val == 1:\n",
    "                        class_counts_2[classes[i]] += 1"
   ],
   "id": "ae2d7dc9bef46695",
   "outputs": [],
   "execution_count": null
  },
  {
   "metadata": {},
   "cell_type": "code",
   "source": [
    "print(\"Кількість відео < 1 хв для кожного класу:\")\n",
    "for cls in classes:\n",
    "    print(f\"{cls}: {class_counts_2[cls]}\")\n"
   ],
   "id": "101e672b6aa4f3aa",
   "outputs": [],
   "execution_count": null
  },
  {
   "metadata": {},
   "cell_type": "code",
   "source": [
    "labels = list(class_counts_2.keys())\n",
    "values = list(class_counts_2.values())\n",
    "\n",
    "plt.figure(figsize=(10, 6))\n",
    "\n",
    "bars = plt.bar(labels, values, color='skyblue', edgecolor='black', width=0.6)\n",
    "\n",
    "plt.title(\"Кількість відео тривалістю 61-120 секунд для кожного класу\", fontsize=14)\n",
    "plt.xlabel(\"Клас\", fontsize=12)\n",
    "plt.ylabel(\"Кількість відео\", fontsize=12)\n",
    "plt.grid(axis='y', linestyle='-', alpha=0.6)\n",
    "\n",
    "plt.grid(axis='x', linestyle='-', alpha=0.6)\n",
    "plt.tight_layout()\n",
    "plt.show()\n"
   ],
   "id": "2b61e5b3200f006e",
   "outputs": [],
   "execution_count": null
  },
  {
   "metadata": {},
   "cell_type": "code",
   "source": [
    "import numpy as np\n",
    "\n",
    "durations = []\n",
    "for folder in video_dir:\n",
    "    for file in os.listdir(folder):\n",
    "        video_path = os.path.join(folder, file)\n",
    "        durations.append(get_video_duration_sec(video_path))"
   ],
   "id": "3e3881ab26e471e6",
   "outputs": [],
   "execution_count": null
  },
  {
   "metadata": {},
   "cell_type": "code",
   "source": [
    "mean_duration = np.mean(durations)\n",
    "median_duration = np.median(durations)\n",
    "std_duration = np.std(durations)\n",
    "min_duration = np.min(durations)\n",
    "max_duration = np.max(durations)\n",
    "\n",
    "print(f\"Середня тривалість відео: {mean_duration:.2f} хв\")\n",
    "print(f\"Медіанна тривалість відео: {median_duration:.2f} хв\")\n",
    "print(f\"Стандартне відхилення: {std_duration:.2f} хв\")\n",
    "print(f\"Мінімальна тривалість відео: {min_duration:.2f} хв\")\n",
    "print(f\"Максимальна тривалість відео: {max_duration:.2f} хв\")"
   ],
   "id": "c661fce663460057",
   "outputs": [],
   "execution_count": null
  },
  {
   "metadata": {},
   "cell_type": "code",
   "source": [
    "fps = set()\n",
    "for folder in video_dir:\n",
    "    for file in os.listdir(folder):\n",
    "        video_path = os.path.join(folder, file)\n",
    "        cap = cv2.VideoCapture(video_path)\n",
    "        fps.add(cap.get(cv2.CAP_PROP_FPS))\n",
    "        \n",
    "        cap.release()\n",
    "\n",
    "print(f\"FPS: {fps}\")\n"
   ],
   "id": "f65382b9b9d9b763",
   "outputs": [],
   "execution_count": null
  },
  {
   "metadata": {},
   "cell_type": "code",
   "source": [
    "\n",
    "video_lengths = {}\n",
    "classes = [\"A\", \"B1\", \"B2\", \"B4\", \"B5\", \"B6\", \"G\"]\n",
    "video_dir = \"C:/Users/Olenka/PycharmProjects/violence_detection/train\"\n",
    "class_counts = defaultdict(float)\n"
   ],
   "id": "7232b332843d919",
   "outputs": [],
   "execution_count": null
  },
  {
   "metadata": {},
   "cell_type": "code",
   "source": [
    "for video in os.listdir(video_dir):\n",
    "    video_path = os.path.join(video_dir, video)\n",
    "    duration = get_video_duration_sec(video_path)\n",
    "    labels = extract_labels(video)\n",
    "    for i, val in enumerate(labels):\n",
    "        if val == 1:\n",
    "            class_counts[classes[i]] += duration / 75"
   ],
   "id": "a7c931f1e8339fdf",
   "outputs": [],
   "execution_count": null
  },
  {
   "metadata": {},
   "cell_type": "code",
   "source": "print(class_counts)",
   "id": "94e82c613d5a3ee0",
   "outputs": [],
   "execution_count": null
  },
  {
   "metadata": {},
   "cell_type": "code",
   "source": [
    "for cls in classes:\n",
    "    print(f\"{cls}: {class_counts[cls]}\")"
   ],
   "id": "2080f61e95b823af",
   "outputs": [],
   "execution_count": null
  }
 ],
 "metadata": {
  "kernelspec": {
   "display_name": "Python 3",
   "language": "python",
   "name": "python3"
  },
  "language_info": {
   "codemirror_mode": {
    "name": "ipython",
    "version": 2
   },
   "file_extension": ".py",
   "mimetype": "text/x-python",
   "name": "python",
   "nbconvert_exporter": "python",
   "pygments_lexer": "ipython2",
   "version": "2.7.6"
  }
 },
 "nbformat": 4,
 "nbformat_minor": 5
}
